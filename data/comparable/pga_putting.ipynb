{
 "cells": [
  {
   "cell_type": "code",
   "execution_count": 1,
   "id": "bad77635-f5ee-4f7c-84b3-1f100409d4d0",
   "metadata": {},
   "outputs": [],
   "source": [
    "import pandas as pd\n",
    "import matplotlib.pyplot as plt\n",
    "import seaborn as sns\n",
    "import numpy as np"
   ]
  },
  {
   "cell_type": "code",
   "execution_count": 2,
   "id": "bce84ebc-920f-4c01-85b0-af433f8eee37",
   "metadata": {},
   "outputs": [],
   "source": [
    "pga_3ft = pd.read_csv(r\"C:\\Users\\Jeremy\\Documents\\NSS DA 2024\\captsone\\data\\comparable\\pga putting\\pga putting from 3 ft 2023.csv\")"
   ]
  },
  {
   "cell_type": "code",
   "execution_count": 3,
   "id": "d745ed80-18aa-48ba-9f5b-c83b39dfc63b",
   "metadata": {},
   "outputs": [],
   "source": [
    "pga_3ft['% MADE'] = pga_3ft['% MADE'].str[:-1]\n",
    "pga_3ft['% MADE'] = pga_3ft['% MADE'].astype(float)"
   ]
  },
  {
   "cell_type": "code",
   "execution_count": 4,
   "id": "8fc52cf1-bda4-48b7-a49e-3cc681ca3554",
   "metadata": {},
   "outputs": [],
   "source": [
    "mean_3ft = pga_3ft['% MADE'].mean()"
   ]
  },
  {
   "cell_type": "code",
   "execution_count": 5,
   "id": "ad0eb374-01ae-4770-ac6c-5656172edc57",
   "metadata": {},
   "outputs": [
    {
     "data": {
      "text/plain": [
       "99.48720207253885"
      ]
     },
     "execution_count": 5,
     "metadata": {},
     "output_type": "execute_result"
    }
   ],
   "source": [
    "mean_3ft"
   ]
  },
  {
   "cell_type": "code",
   "execution_count": 6,
   "id": "332659e2-bad9-4f8c-86d2-1d414260b583",
   "metadata": {},
   "outputs": [
    {
     "data": {
      "text/plain": [
       "count    193.000000\n",
       "mean      99.487202\n",
       "std        0.365873\n",
       "min       97.150000\n",
       "25%       99.330000\n",
       "50%       99.550000\n",
       "75%       99.720000\n",
       "max      100.000000\n",
       "Name: % MADE, dtype: float64"
      ]
     },
     "execution_count": 6,
     "metadata": {},
     "output_type": "execute_result"
    }
   ],
   "source": [
    "pga_3ft['% MADE'].describe()"
   ]
  },
  {
   "cell_type": "code",
   "execution_count": 7,
   "id": "532af8bb-76cd-47ea-83fe-9be6dc06231c",
   "metadata": {},
   "outputs": [],
   "source": [
    "pga_4ft = pd.read_csv(r\"C:\\Users\\Jeremy\\Documents\\NSS DA 2024\\captsone\\data\\comparable\\pga putting\\pga putting from 4ft 2023.csv\")"
   ]
  },
  {
   "cell_type": "code",
   "execution_count": 8,
   "id": "42de2588-bc2f-4684-bb3d-fc100e2236e5",
   "metadata": {},
   "outputs": [],
   "source": [
    "pga_4ft['% MADE'] = pga_4ft['% MADE'].str[:-1]\n",
    "pga_4ft['% MADE'] = pga_4ft['% MADE'].astype(float)"
   ]
  },
  {
   "cell_type": "code",
   "execution_count": 9,
   "id": "273bc6ee-eee5-4826-a5bf-5673da84c29b",
   "metadata": {},
   "outputs": [
    {
     "data": {
      "text/plain": [
       "count    193.000000\n",
       "mean      92.814767\n",
       "std        2.807367\n",
       "min       85.630000\n",
       "25%       90.830000\n",
       "50%       93.100000\n",
       "75%       95.070000\n",
       "max       98.460000\n",
       "Name: % MADE, dtype: float64"
      ]
     },
     "execution_count": 9,
     "metadata": {},
     "output_type": "execute_result"
    }
   ],
   "source": [
    "pga_4ft['% MADE'].describe()"
   ]
  },
  {
   "cell_type": "code",
   "execution_count": 10,
   "id": "874bb266-0b57-49f8-9a50-3d7e8764c9cf",
   "metadata": {},
   "outputs": [],
   "source": [
    "mean_4ft = pga_4ft['% MADE'].mean()"
   ]
  },
  {
   "cell_type": "code",
   "execution_count": 11,
   "id": "98825ee9-77c7-4262-932b-f50db6f8db32",
   "metadata": {},
   "outputs": [
    {
     "data": {
      "text/plain": [
       "92.81476683937824"
      ]
     },
     "execution_count": 11,
     "metadata": {},
     "output_type": "execute_result"
    }
   ],
   "source": [
    "mean_4ft"
   ]
  },
  {
   "cell_type": "code",
   "execution_count": 12,
   "id": "a8cd87e7-4127-4a23-b1e3-4d5bd679fce7",
   "metadata": {},
   "outputs": [],
   "source": [
    "pga_5ft = pd.read_csv(r\"C:\\Users\\Jeremy\\Documents\\NSS DA 2024\\captsone\\data\\comparable\\pga putting\\pga putting from 5ft 2023.csv\")"
   ]
  },
  {
   "cell_type": "code",
   "execution_count": 13,
   "id": "042ae784-3709-4a42-8a1f-2b0d6b25c7c2",
   "metadata": {},
   "outputs": [],
   "source": [
    "pga_5ft['% MADE'] = pga_5ft['% MADE'].str[:-1]\n",
    "pga_5ft['% MADE'] = pga_5ft['% MADE'].astype(float)"
   ]
  },
  {
   "cell_type": "code",
   "execution_count": 14,
   "id": "8ca17fac-e129-4a41-8891-2907d9e1da37",
   "metadata": {},
   "outputs": [
    {
     "data": {
      "text/plain": [
       "count    193.000000\n",
       "mean      82.305855\n",
       "std        4.574878\n",
       "min       67.240000\n",
       "25%       79.250000\n",
       "50%       82.410000\n",
       "75%       85.530000\n",
       "max       92.750000\n",
       "Name: % MADE, dtype: float64"
      ]
     },
     "execution_count": 14,
     "metadata": {},
     "output_type": "execute_result"
    }
   ],
   "source": [
    "pga_5ft['% MADE'].describe()"
   ]
  },
  {
   "cell_type": "code",
   "execution_count": 15,
   "id": "a4c2f3d4-ff34-4e28-be10-7e5f8bfb92d6",
   "metadata": {},
   "outputs": [
    {
     "data": {
      "text/plain": [
       "82.30585492227979"
      ]
     },
     "execution_count": 15,
     "metadata": {},
     "output_type": "execute_result"
    }
   ],
   "source": [
    "mean_5ft = pga_5ft['% MADE'].mean()\n",
    "mean_5ft"
   ]
  },
  {
   "cell_type": "code",
   "execution_count": 16,
   "id": "ae0915e8-a5e2-4dc2-845e-6f3ab03bc885",
   "metadata": {},
   "outputs": [],
   "source": [
    "pga_6ft = pd.read_csv(r\"C:\\Users\\Jeremy\\Documents\\NSS DA 2024\\captsone\\data\\comparable\\pga putting\\pga putting from 6ft 2023.csv\")"
   ]
  },
  {
   "cell_type": "code",
   "execution_count": 17,
   "id": "66a91282-a016-4543-ab4d-60a539497d9e",
   "metadata": {},
   "outputs": [],
   "source": [
    "pga_6ft['% MADE'] = pga_6ft['% MADE'].str[:-1]\n",
    "pga_6ft['% MADE'] = pga_6ft['% MADE'].astype(float)"
   ]
  },
  {
   "cell_type": "code",
   "execution_count": 18,
   "id": "3e61d71f-a300-46a9-9133-5ecd6f5fc562",
   "metadata": {},
   "outputs": [
    {
     "data": {
      "text/plain": [
       "count    193.000000\n",
       "mean      70.820777\n",
       "std        6.396606\n",
       "min       51.520000\n",
       "25%       66.670000\n",
       "50%       70.370000\n",
       "75%       74.680000\n",
       "max       91.800000\n",
       "Name: % MADE, dtype: float64"
      ]
     },
     "execution_count": 18,
     "metadata": {},
     "output_type": "execute_result"
    }
   ],
   "source": [
    "pga_6ft['% MADE'].describe()"
   ]
  },
  {
   "cell_type": "code",
   "execution_count": 19,
   "id": "cb2f367d-fc5b-4311-af7f-c2555035677c",
   "metadata": {},
   "outputs": [
    {
     "data": {
      "text/plain": [
       "70.82077720207253"
      ]
     },
     "execution_count": 19,
     "metadata": {},
     "output_type": "execute_result"
    }
   ],
   "source": [
    "mean_6ft = pga_6ft['% MADE'].mean()\n",
    "mean_6ft"
   ]
  },
  {
   "cell_type": "code",
   "execution_count": 20,
   "id": "1dfee814-4048-4a2e-9f54-b59c7d20900b",
   "metadata": {},
   "outputs": [],
   "source": [
    "pga_7ft = pd.read_csv(r\"C:\\Users\\Jeremy\\Documents\\NSS DA 2024\\captsone\\data\\comparable\\pga putting\\pga putting from 7ft 2023.csv\")"
   ]
  },
  {
   "cell_type": "code",
   "execution_count": 21,
   "id": "3cece276-ceb3-4642-ba08-fbb9a9918357",
   "metadata": {},
   "outputs": [],
   "source": [
    "pga_7ft['% MADE'] = pga_7ft['% MADE'].str[:-1]\n",
    "pga_7ft['% MADE'] = pga_7ft['% MADE'].astype(float)"
   ]
  },
  {
   "cell_type": "code",
   "execution_count": 22,
   "id": "8ef0b953-0783-4e0e-856d-11a33a2f6947",
   "metadata": {},
   "outputs": [
    {
     "data": {
      "text/plain": [
       "count    193.000000\n",
       "mean      62.023212\n",
       "std        7.275102\n",
       "min       41.300000\n",
       "25%       57.630000\n",
       "50%       62.120000\n",
       "75%       67.920000\n",
       "max       81.480000\n",
       "Name: % MADE, dtype: float64"
      ]
     },
     "execution_count": 22,
     "metadata": {},
     "output_type": "execute_result"
    }
   ],
   "source": [
    "pga_7ft['% MADE'].describe()"
   ]
  },
  {
   "cell_type": "code",
   "execution_count": 23,
   "id": "63d3da15-30c7-4ca3-946c-dc60c164c940",
   "metadata": {},
   "outputs": [
    {
     "data": {
      "text/plain": [
       "62.023212435233155"
      ]
     },
     "execution_count": 23,
     "metadata": {},
     "output_type": "execute_result"
    }
   ],
   "source": [
    "mean_7ft = pga_7ft['% MADE'].mean()\n",
    "mean_7ft"
   ]
  },
  {
   "cell_type": "code",
   "execution_count": 24,
   "id": "acae833b-8b66-43e2-95b1-3be947abaf16",
   "metadata": {},
   "outputs": [],
   "source": [
    "pga_8ft = pd.read_csv(r\"C:\\Users\\Jeremy\\Documents\\NSS DA 2024\\captsone\\data\\comparable\\pga putting\\pga putting from 8ft 2023.csv\")"
   ]
  },
  {
   "cell_type": "code",
   "execution_count": 25,
   "id": "3e24b934-d164-4d9f-890b-680bedaac019",
   "metadata": {},
   "outputs": [
    {
     "data": {
      "text/plain": [
       "count    193.000000\n",
       "mean      53.482902\n",
       "std        7.267271\n",
       "min       35.140000\n",
       "25%       48.570000\n",
       "50%       53.490000\n",
       "75%       57.970000\n",
       "max       70.450000\n",
       "Name: % MADE, dtype: float64"
      ]
     },
     "execution_count": 25,
     "metadata": {},
     "output_type": "execute_result"
    }
   ],
   "source": [
    "pga_8ft['% MADE'] = pga_8ft['% MADE'].str[:-1]\n",
    "pga_8ft['% MADE'] = pga_8ft['% MADE'].astype(float)\n",
    "pga_8ft['% MADE'].describe()"
   ]
  },
  {
   "cell_type": "code",
   "execution_count": 26,
   "id": "29e56dd5-29aa-4b8d-b2fb-cbbbc01b6e42",
   "metadata": {},
   "outputs": [
    {
     "data": {
      "text/plain": [
       "53.48290155440415"
      ]
     },
     "execution_count": 26,
     "metadata": {},
     "output_type": "execute_result"
    }
   ],
   "source": [
    "mean_8ft = pga_8ft['% MADE'].mean()\n",
    "mean_8ft"
   ]
  },
  {
   "cell_type": "code",
   "execution_count": 27,
   "id": "eba01720-c8d2-4f3e-bf53-bd04935ccba0",
   "metadata": {},
   "outputs": [],
   "source": [
    "pga_9ft = pd.read_csv(r\"C:\\Users\\Jeremy\\Documents\\NSS DA 2024\\captsone\\data\\comparable\\pga putting\\pga putting from 9ft 2023.csv\")"
   ]
  },
  {
   "cell_type": "code",
   "execution_count": 28,
   "id": "e23678ed-7c9a-4754-ae74-cda1a8349215",
   "metadata": {},
   "outputs": [],
   "source": [
    "pga_9ft['% MADE'] = pga_9ft['% MADE'].str[:-1]\n",
    "pga_9ft['% MADE'] = pga_9ft['% MADE'].astype(float)"
   ]
  },
  {
   "cell_type": "code",
   "execution_count": 29,
   "id": "889f6ce3-0832-40d6-b63d-43d0938f8b48",
   "metadata": {},
   "outputs": [
    {
     "data": {
      "text/plain": [
       "count    193.000000\n",
       "mean      47.153627\n",
       "std        7.676766\n",
       "min       27.780000\n",
       "25%       40.820000\n",
       "50%       47.830000\n",
       "75%       52.830000\n",
       "max       75.000000\n",
       "Name: % MADE, dtype: float64"
      ]
     },
     "execution_count": 29,
     "metadata": {},
     "output_type": "execute_result"
    }
   ],
   "source": [
    "pga_9ft['% MADE'].describe()"
   ]
  },
  {
   "cell_type": "code",
   "execution_count": 30,
   "id": "595160c3-ad3e-4a6a-858c-92642417ec09",
   "metadata": {},
   "outputs": [
    {
     "data": {
      "text/plain": [
       "47.153626943005186"
      ]
     },
     "execution_count": 30,
     "metadata": {},
     "output_type": "execute_result"
    }
   ],
   "source": [
    "mean_9ft = pga_9ft['% MADE'].mean()\n",
    "mean_9ft"
   ]
  },
  {
   "cell_type": "code",
   "execution_count": 31,
   "id": "21a0d224-bc28-43cc-a047-e9b4e69ca81b",
   "metadata": {},
   "outputs": [],
   "source": [
    "pga_10ft = pd.read_csv(r\"C:\\Users\\Jeremy\\Documents\\NSS DA 2024\\captsone\\data\\comparable\\pga putting\\pga putting from 10ft 2023.csv\")"
   ]
  },
  {
   "cell_type": "code",
   "execution_count": 32,
   "id": "4084381e-ca17-4f1d-8070-99e587e2ffed",
   "metadata": {},
   "outputs": [],
   "source": [
    "pga_10ft['% MADE'] = pga_10ft['% MADE'].str[:-1]\n",
    "pga_10ft['% MADE'] = pga_10ft['% MADE'].astype(float)"
   ]
  },
  {
   "cell_type": "code",
   "execution_count": 33,
   "id": "be09afd1-01a2-466c-959f-dc46fb2ebea3",
   "metadata": {},
   "outputs": [
    {
     "data": {
      "text/plain": [
       "count    193.000000\n",
       "mean      41.554093\n",
       "std        7.652028\n",
       "min       22.220000\n",
       "25%       36.360000\n",
       "50%       41.670000\n",
       "75%       46.940000\n",
       "max       69.440000\n",
       "Name: % MADE, dtype: float64"
      ]
     },
     "execution_count": 33,
     "metadata": {},
     "output_type": "execute_result"
    }
   ],
   "source": [
    "pga_10ft['% MADE'].describe()"
   ]
  },
  {
   "cell_type": "code",
   "execution_count": 34,
   "id": "958dc1e0-f210-4541-863b-1826d39f5b94",
   "metadata": {},
   "outputs": [
    {
     "data": {
      "text/plain": [
       "41.5540932642487"
      ]
     },
     "execution_count": 34,
     "metadata": {},
     "output_type": "execute_result"
    }
   ],
   "source": [
    "mean_10ft = pga_10ft['% MADE'].mean()\n",
    "mean_10ft"
   ]
  },
  {
   "cell_type": "code",
   "execution_count": 35,
   "id": "bcb42ee7-bc78-4f57-a7ae-c861ab91ef0f",
   "metadata": {},
   "outputs": [],
   "source": [
    "pga_10_to_15 = pd.read_csv(r\"C:\\Users\\Jeremy\\Documents\\NSS DA 2024\\captsone\\data\\comparable\\pga putting\\pga putting from 10 to 15 ft 2023.csv\")"
   ]
  },
  {
   "cell_type": "code",
   "execution_count": 36,
   "id": "769daa43-eea6-4255-80c8-0a9bf1d10d35",
   "metadata": {},
   "outputs": [],
   "source": [
    "pga_10_to_15['% MADE'] = pga_10_to_15['% MADE'].str[:-1]"
   ]
  },
  {
   "cell_type": "code",
   "execution_count": 37,
   "id": "7d6fac01-a580-436a-bac8-74fc5cb21a97",
   "metadata": {},
   "outputs": [],
   "source": [
    "pga_10_to_15['% MADE'] = pga_10_to_15['% MADE'].astype(float)"
   ]
  },
  {
   "cell_type": "code",
   "execution_count": 38,
   "id": "c22572c3-ce88-4980-aac5-ecd80140ea1d",
   "metadata": {},
   "outputs": [
    {
     "data": {
      "text/plain": [
       "count    193.000000\n",
       "mean      31.140674\n",
       "std        3.907965\n",
       "min       21.600000\n",
       "25%       28.790000\n",
       "50%       31.320000\n",
       "75%       33.900000\n",
       "max       40.160000\n",
       "Name: % MADE, dtype: float64"
      ]
     },
     "execution_count": 38,
     "metadata": {},
     "output_type": "execute_result"
    }
   ],
   "source": [
    "pga_10_to_15['% MADE'].describe()"
   ]
  },
  {
   "cell_type": "code",
   "execution_count": 39,
   "id": "a14a48c3-9551-4fcd-9457-ebd24a528f43",
   "metadata": {},
   "outputs": [
    {
     "data": {
      "text/plain": [
       "31.140673575129533"
      ]
     },
     "execution_count": 39,
     "metadata": {},
     "output_type": "execute_result"
    }
   ],
   "source": [
    "mean_10_to_15 = pga_10_to_15['% MADE'].mean()\n",
    "mean_10_to_15"
   ]
  },
  {
   "cell_type": "code",
   "execution_count": 40,
   "id": "7a321523-3606-48ea-aa7d-267a580dcec7",
   "metadata": {},
   "outputs": [],
   "source": [
    "pga_15_to_20 = pd.read_csv(r\"C:\\Users\\Jeremy\\Documents\\NSS DA 2024\\captsone\\data\\comparable\\pga putting\\pga putting from 15 to 20 ft 2023.csv\")"
   ]
  },
  {
   "cell_type": "code",
   "execution_count": 41,
   "id": "b354183f-691e-4f71-9718-2f7b74fc70dc",
   "metadata": {},
   "outputs": [],
   "source": [
    "pga_15_to_20['% MADE'] = pga_15_to_20['% MADE'].str[:-1]\n",
    "pga_15_to_20['% MADE'] = pga_15_to_20['% MADE'].astype(float)"
   ]
  },
  {
   "cell_type": "code",
   "execution_count": 42,
   "id": "da4efc52-4c1b-4cb7-a99a-c9ef3b4dc0da",
   "metadata": {},
   "outputs": [
    {
     "data": {
      "text/plain": [
       "count    193.000000\n",
       "mean      18.932176\n",
       "std        3.717647\n",
       "min       10.000000\n",
       "25%       16.130000\n",
       "50%       18.750000\n",
       "75%       21.430000\n",
       "max       31.300000\n",
       "Name: % MADE, dtype: float64"
      ]
     },
     "execution_count": 42,
     "metadata": {},
     "output_type": "execute_result"
    }
   ],
   "source": [
    "pga_15_to_20['% MADE'].describe()"
   ]
  },
  {
   "cell_type": "code",
   "execution_count": 43,
   "id": "ca3d8a87-2c11-49ed-9af5-185e051ab9b3",
   "metadata": {},
   "outputs": [
    {
     "data": {
      "text/plain": [
       "18.932176165803106"
      ]
     },
     "execution_count": 43,
     "metadata": {},
     "output_type": "execute_result"
    }
   ],
   "source": [
    "mean_pga_15_to_20 = pga_15_to_20['% MADE'].mean()\n",
    "mean_pga_15_to_20"
   ]
  },
  {
   "cell_type": "code",
   "execution_count": 44,
   "id": "cb11ffa0-2286-4b84-9dc4-4857385c3781",
   "metadata": {},
   "outputs": [],
   "source": [
    "pga_20_to_25 = pd.read_csv(r\"C:\\Users\\Jeremy\\Documents\\NSS DA 2024\\captsone\\data\\comparable\\pga putting\\pga putting from 20 to 25 ft 2023.csv\")"
   ]
  },
  {
   "cell_type": "code",
   "execution_count": 45,
   "id": "cf34d956-01b2-47a2-9da5-8fc29c141ab2",
   "metadata": {},
   "outputs": [],
   "source": [
    "pga_20_to_25['% MADE'] = pga_20_to_25['% MADE'].str[:-1]\n",
    "pga_20_to_25['% MADE'] = pga_20_to_25['% MADE'].astype(float)"
   ]
  },
  {
   "cell_type": "code",
   "execution_count": 46,
   "id": "f2c8edb9-13f6-4a43-af7b-c9e37ac7adf8",
   "metadata": {},
   "outputs": [
    {
     "data": {
      "text/plain": [
       "count    193.000000\n",
       "mean      12.140570\n",
       "std        2.969622\n",
       "min        4.000000\n",
       "25%       10.340000\n",
       "50%       12.150000\n",
       "75%       13.930000\n",
       "max       24.690000\n",
       "Name: % MADE, dtype: float64"
      ]
     },
     "execution_count": 46,
     "metadata": {},
     "output_type": "execute_result"
    }
   ],
   "source": [
    "pga_20_to_25['% MADE'].describe()"
   ]
  },
  {
   "cell_type": "code",
   "execution_count": 47,
   "id": "49b456ff-83ad-4e46-aef6-e64c1c43e96b",
   "metadata": {},
   "outputs": [
    {
     "data": {
      "text/plain": [
       "12.14056994818653"
      ]
     },
     "execution_count": 47,
     "metadata": {},
     "output_type": "execute_result"
    }
   ],
   "source": [
    "mean_pga_20_to_25 = pga_20_to_25['% MADE'].mean()\n",
    "mean_pga_20_to_25"
   ]
  },
  {
   "cell_type": "code",
   "execution_count": 48,
   "id": "a7e65765-53a6-4656-8d2d-f9fadfc5d0eb",
   "metadata": {},
   "outputs": [],
   "source": [
    "pga_25_plus = pd.read_csv(r\"C:\\Users\\Jeremy\\Documents\\NSS DA 2024\\captsone\\data\\comparable\\pga putting\\pga putting from more than 25 ft 2023.csv\")"
   ]
  },
  {
   "cell_type": "code",
   "execution_count": 49,
   "id": "0343bdb9-c31a-4b0f-be73-a5f114efafa4",
   "metadata": {},
   "outputs": [],
   "source": [
    "pga_25_plus['% MADE'] = pga_25_plus['% MADE'].str[:-1]\n",
    "pga_25_plus['% MADE'] = pga_25_plus['% MADE'].astype(float)"
   ]
  },
  {
   "cell_type": "code",
   "execution_count": 50,
   "id": "2f25ee56-7f0b-420c-b5d2-0db4ae317fdb",
   "metadata": {},
   "outputs": [
    {
     "data": {
      "text/plain": [
       "count    193.000000\n",
       "mean       5.548342\n",
       "std        1.387118\n",
       "min        1.900000\n",
       "25%        4.560000\n",
       "50%        5.670000\n",
       "75%        6.500000\n",
       "max        9.500000\n",
       "Name: % MADE, dtype: float64"
      ]
     },
     "execution_count": 50,
     "metadata": {},
     "output_type": "execute_result"
    }
   ],
   "source": [
    "pga_25_plus['% MADE'].describe()"
   ]
  },
  {
   "cell_type": "code",
   "execution_count": 51,
   "id": "0e327706-576e-42b6-b31d-3d5871c45af5",
   "metadata": {},
   "outputs": [
    {
     "data": {
      "text/plain": [
       "5.548341968911917"
      ]
     },
     "execution_count": 51,
     "metadata": {},
     "output_type": "execute_result"
    }
   ],
   "source": [
    "mean_25_plus = pga_25_plus['% MADE'].mean()\n",
    "mean_25_plus"
   ]
  },
  {
   "cell_type": "code",
   "execution_count": null,
   "id": "59976299-fdf0-4c63-8cf0-ed33d2df5d4c",
   "metadata": {},
   "outputs": [],
   "source": []
  },
  {
   "cell_type": "code",
   "execution_count": 52,
   "id": "31cda474-95c7-44ae-a96a-4fa97a1d08a1",
   "metadata": {},
   "outputs": [
    {
     "data": {
      "text/html": [
       "<div>\n",
       "<style scoped>\n",
       "    .dataframe tbody tr th:only-of-type {\n",
       "        vertical-align: middle;\n",
       "    }\n",
       "\n",
       "    .dataframe tbody tr th {\n",
       "        vertical-align: top;\n",
       "    }\n",
       "\n",
       "    .dataframe thead th {\n",
       "        text-align: right;\n",
       "    }\n",
       "</style>\n",
       "<table border=\"1\" class=\"dataframe\">\n",
       "  <thead>\n",
       "    <tr style=\"text-align: right;\">\n",
       "      <th></th>\n",
       "      <th>AVG_MADE_%</th>\n",
       "      <th>FEET</th>\n",
       "    </tr>\n",
       "  </thead>\n",
       "  <tbody>\n",
       "    <tr>\n",
       "      <th>0</th>\n",
       "      <td>99.487202</td>\n",
       "      <td>3ft</td>\n",
       "    </tr>\n",
       "    <tr>\n",
       "      <th>1</th>\n",
       "      <td>92.814767</td>\n",
       "      <td>4ft</td>\n",
       "    </tr>\n",
       "    <tr>\n",
       "      <th>2</th>\n",
       "      <td>82.305855</td>\n",
       "      <td>5ft</td>\n",
       "    </tr>\n",
       "    <tr>\n",
       "      <th>3</th>\n",
       "      <td>70.820777</td>\n",
       "      <td>6ft</td>\n",
       "    </tr>\n",
       "    <tr>\n",
       "      <th>4</th>\n",
       "      <td>62.023212</td>\n",
       "      <td>7ft</td>\n",
       "    </tr>\n",
       "    <tr>\n",
       "      <th>5</th>\n",
       "      <td>53.482902</td>\n",
       "      <td>8ft</td>\n",
       "    </tr>\n",
       "    <tr>\n",
       "      <th>6</th>\n",
       "      <td>47.153627</td>\n",
       "      <td>9ft</td>\n",
       "    </tr>\n",
       "    <tr>\n",
       "      <th>7</th>\n",
       "      <td>41.554093</td>\n",
       "      <td>10ft</td>\n",
       "    </tr>\n",
       "    <tr>\n",
       "      <th>8</th>\n",
       "      <td>31.140674</td>\n",
       "      <td>10-15ft</td>\n",
       "    </tr>\n",
       "    <tr>\n",
       "      <th>9</th>\n",
       "      <td>18.932176</td>\n",
       "      <td>15-20ft</td>\n",
       "    </tr>\n",
       "    <tr>\n",
       "      <th>10</th>\n",
       "      <td>12.140570</td>\n",
       "      <td>20-25ft</td>\n",
       "    </tr>\n",
       "    <tr>\n",
       "      <th>11</th>\n",
       "      <td>5.548342</td>\n",
       "      <td>25ft plus</td>\n",
       "    </tr>\n",
       "  </tbody>\n",
       "</table>\n",
       "</div>"
      ],
      "text/plain": [
       "    AVG_MADE_%       FEET\n",
       "0    99.487202        3ft\n",
       "1    92.814767        4ft\n",
       "2    82.305855        5ft\n",
       "3    70.820777        6ft\n",
       "4    62.023212        7ft\n",
       "5    53.482902        8ft\n",
       "6    47.153627        9ft\n",
       "7    41.554093       10ft\n",
       "8    31.140674    10-15ft\n",
       "9    18.932176    15-20ft\n",
       "10   12.140570    20-25ft\n",
       "11    5.548342  25ft plus"
      ]
     },
     "execution_count": 52,
     "metadata": {},
     "output_type": "execute_result"
    }
   ],
   "source": [
    "mean_data = [[mean_3ft, '3ft'], [mean_4ft, '4ft'],[mean_5ft, '5ft'],[mean_6ft, '6ft'], [mean_7ft, '7ft'],[mean_8ft, '8ft'],[mean_9ft, '9ft'],[mean_10ft, '10ft'],[mean_10_to_15, '10-15ft'], [mean_pga_15_to_20, '15-20ft'],[mean_pga_20_to_25, '20-25ft'],[mean_25_plus, '25ft plus'] ]\n",
    "means = pd.DataFrame(mean_data, columns=['AVG_MADE_%', 'FEET'])\n",
    "means"
   ]
  },
  {
   "cell_type": "code",
   "execution_count": 53,
   "id": "abcfb0cd-224d-43d9-9d45-df5e4cb4868d",
   "metadata": {},
   "outputs": [
    {
     "name": "stderr",
     "output_type": "stream",
     "text": [
      "C:\\Users\\Jeremy\\anaconda3\\Lib\\site-packages\\seaborn\\_oldcore.py:1119: FutureWarning: use_inf_as_na option is deprecated and will be removed in a future version. Convert inf values to NaN before operating instead.\n",
      "  with pd.option_context('mode.use_inf_as_na', True):\n",
      "C:\\Users\\Jeremy\\anaconda3\\Lib\\site-packages\\seaborn\\_oldcore.py:1119: FutureWarning: use_inf_as_na option is deprecated and will be removed in a future version. Convert inf values to NaN before operating instead.\n",
      "  with pd.option_context('mode.use_inf_as_na', True):\n"
     ]
    },
    {
     "data": {
      "image/png": "[encoded data removed]",
      "text/plain": [
       "<Figure size 640x480 with 1 Axes>"
      ]
     },
     "metadata": {},
     "output_type": "display_data"
    }
   ],
   "source": [
    "ax = sns.lineplot(data=means, x=\"FEET\", y=\"AVG_MADE_%\")\n",
    "plt.xticks(rotation=45)\n",
    "plt.grid();"
   ]
  },
  {
   "cell_type": "code",
   "execution_count": 54,
   "id": "dae35ebf-fd00-42eb-9d3d-edfb9c82f723",
   "metadata": {},
   "outputs": [
    {
     "name": "stderr",
     "output_type": "stream",
     "text": [
      "C:\\Users\\Jeremy\\anaconda3\\Lib\\site-packages\\seaborn\\_oldcore.py:1119: FutureWarning: use_inf_as_na option is deprecated and will be removed in a future version. Convert inf values to NaN before operating instead.\n",
      "  with pd.option_context('mode.use_inf_as_na', True):\n",
      "C:\\Users\\Jeremy\\anaconda3\\Lib\\site-packages\\seaborn\\_oldcore.py:1119: FutureWarning: use_inf_as_na option is deprecated and will be removed in a future version. Convert inf values to NaN before operating instead.\n",
      "  with pd.option_context('mode.use_inf_as_na', True):\n"
     ]
    },
    {
     "data": {
      "image/png": "[encoded data removed]",
      "text/plain": [
       "<Figure size 640x480 with 1 Axes>"
      ]
     },
     "metadata": {},
     "output_type": "display_data"
    }
   ],
   "source": [
    "ax = sns.lineplot(data=means, x=\"FEET\", y=\"AVG_MADE_%\", marker='o')\n",
    "plt.xticks(rotation=45)\n",
    "plt.grid(True)\n",
    "plt.xlabel('FEET')\n",
    "plt.ylabel('AVG_MADE_%')\n",
    "plt.title('Line Plot with Markers')\n",
    "plt.show()"
   ]
  },
  {
   "cell_type": "code",
   "execution_count": 71,
   "id": "351a22d2-5bdd-49b9-a24a-58b105c90d87",
   "metadata": {},
   "outputs": [
    {
     "name": "stderr",
     "output_type": "stream",
     "text": [
      "C:\\Users\\Jeremy\\AppData\\Local\\Temp\\ipykernel_35984\\543709969.py:3: UserWarning: Ignoring `palette` because no `hue` variable has been assigned.\n",
      "  ax = sns.lineplot(data=means, x=\"FEET\", y=\"AVG_MADE_%\", marker='o', palette=\"crest\")\n",
      "C:\\Users\\Jeremy\\anaconda3\\Lib\\site-packages\\seaborn\\_oldcore.py:1119: FutureWarning: use_inf_as_na option is deprecated and will be removed in a future version. Convert inf values to NaN before operating instead.\n",
      "  with pd.option_context('mode.use_inf_as_na', True):\n",
      "C:\\Users\\Jeremy\\anaconda3\\Lib\\site-packages\\seaborn\\_oldcore.py:1119: FutureWarning: use_inf_as_na option is deprecated and will be removed in a future version. Convert inf values to NaN before operating instead.\n",
      "  with pd.option_context('mode.use_inf_as_na', True):\n"
     ]
    },
    {
     "data": {
      "image/png": "[encoded data removed]",
      "text/plain": [
       "<Figure size 1500x1000 with 1 Axes>"
      ]
     },
     "metadata": {},
     "output_type": "display_data"
    }
   ],
   "source": [
    "sns.set_theme(style=\"darkgrid\")\n",
    "plt.figure(figsize=(15, 10))\n",
    "ax = sns.lineplot(data=means, x=\"FEET\", y=\"AVG_MADE_%\", marker='o', palette=\"crest\")\n",
    "\n",
    "for i in range(len(means)):\n",
    "    plt.annotate(f'{means[\"AVG_MADE_%\"][i]:.2f}', (means[\"FEET\"][i], means[\"AVG_MADE_%\"][i]), \n",
    "                 textcoords=\"offset points\", xytext=(2,8), ha='left')\n",
    "\n",
    "plt.xticks(rotation=45)\n",
    "plt.grid(\"light\")\n",
    "plt.xlabel('FEET TO HOLE')\n",
    "plt.ylabel('AVG PERCENT OF MADE PUTTS')\n",
    "plt.title('PGA TOUR MADE PUTT PERCENT BY DISTANCE 2022-2023')\n",
    "plt.show();"
   ]
  },
  {
   "cell_type": "code",
   "execution_count": 57,
   "id": "f2e404ef-61f0-46df-a52c-110af7d12d3a",
   "metadata": {},
   "outputs": [
    {
     "ename": "ValueError",
     "evalue": "Either `x` or `y` must be None for kind='count'",
     "output_type": "error",
     "traceback": [
      "\u001b[1;31m---------------------------------------------------------------------------\u001b[0m",
      "\u001b[1;31mValueError\u001b[0m                                Traceback (most recent call last)",
      "Cell \u001b[1;32mIn[57], line 5\u001b[0m\n\u001b[0;32m      2\u001b[0m \u001b[38;5;28;01mdef\u001b[39;00m \u001b[38;5;21mroundup\u001b[39m(x):\n\u001b[0;32m      3\u001b[0m     \u001b[38;5;28;01mreturn\u001b[39;00m \u001b[38;5;241m100\u001b[39m \u001b[38;5;241m+\u001b[39m \u001b[38;5;28mint\u001b[39m(math\u001b[38;5;241m.\u001b[39mceil(x \u001b[38;5;241m/\u001b[39m \u001b[38;5;241m100.0\u001b[39m)) \u001b[38;5;241m*\u001b[39m \u001b[38;5;241m100\u001b[39m\n\u001b[1;32m----> 5\u001b[0m sns\u001b[38;5;241m.\u001b[39mcatplot(data\u001b[38;5;241m=\u001b[39mmeans, kind\u001b[38;5;241m=\u001b[39m\u001b[38;5;124m'\u001b[39m\u001b[38;5;124mcount\u001b[39m\u001b[38;5;124m'\u001b[39m, alpha\u001b[38;5;241m=\u001b[39m\u001b[38;5;241m0.7\u001b[39m, size\u001b[38;5;241m=\u001b[39m\u001b[38;5;241m4\u001b[39m, aspect\u001b[38;5;241m=\u001b[39m\u001b[38;5;241m1\u001b[39m)\n\u001b[0;32m      7\u001b[0m \u001b[38;5;66;03m# Get current axis on current figure\u001b[39;00m\n\u001b[0;32m      8\u001b[0m ax \u001b[38;5;241m=\u001b[39m plt\u001b[38;5;241m.\u001b[39mgca()\n",
      "File \u001b[1;32m~\\anaconda3\\Lib\\site-packages\\seaborn\\categorical.py:3171\u001b[0m, in \u001b[0;36mcatplot\u001b[1;34m(data, x, y, hue, row, col, col_wrap, estimator, errorbar, n_boot, units, seed, order, hue_order, row_order, col_order, height, aspect, kind, native_scale, formatter, orient, color, palette, hue_norm, legend, legend_out, sharex, sharey, margin_titles, facet_kws, ci, **kwargs)\u001b[0m\n\u001b[0;32m   3169\u001b[0m         x_, y_, orient \u001b[38;5;241m=\u001b[39m x, x, \u001b[38;5;124m\"\u001b[39m\u001b[38;5;124mv\u001b[39m\u001b[38;5;124m\"\u001b[39m\n\u001b[0;32m   3170\u001b[0m     \u001b[38;5;28;01melse\u001b[39;00m:\n\u001b[1;32m-> 3171\u001b[0m         \u001b[38;5;28;01mraise\u001b[39;00m \u001b[38;5;167;01mValueError\u001b[39;00m(\u001b[38;5;124m\"\u001b[39m\u001b[38;5;124mEither `x` or `y` must be None for kind=\u001b[39m\u001b[38;5;124m'\u001b[39m\u001b[38;5;124mcount\u001b[39m\u001b[38;5;124m'\u001b[39m\u001b[38;5;124m\"\u001b[39m)\n\u001b[0;32m   3172\u001b[0m \u001b[38;5;28;01melse\u001b[39;00m:\n\u001b[0;32m   3173\u001b[0m     x_, y_ \u001b[38;5;241m=\u001b[39m x, y\n",
      "\u001b[1;31mValueError\u001b[0m: Either `x` or `y` must be None for kind='count'"
     ]
    }
   ],
   "source": [
    "# Rounding the integer to the next hundredth value plus an offset of 100\n",
    "def roundup(x):\n",
    "    return 100 + int(math.ceil(x / 100.0)) * 100\n",
    "\n",
    "sns.catplot('Title', data=means, kind='count', alpha=0.7, size=4, aspect=1)\n",
    "\n",
    "# Get current axis on current figure\n",
    "ax = plt.gca()\n",
    "\n",
    "# ylim max value to be set\n",
    "y_max = means['AVG_MADE_%'].value_counts().max()\n",
    "ax.set_ylim([0, roundup(y_max)])\n",
    "\n",
    "# Iterate through the list of axes' patches\n",
    "for p in ax.patches:\n",
    "    ax.text(p.get_x() + p.get_width()/2., p.get_height(), '%d' % int(p.get_height()),\n",
    "            fontsize=12, color='red', ha='center', va='bottom')\n",
    "\n",
    "plt.show()"
   ]
  },
  {
   "cell_type": "code",
   "execution_count": null,
   "id": "43708fe5-b028-4554-ae13-ff21d129501a",
   "metadata": {},
   "outputs": [],
   "source": []
  }
 ],
 "metadata": {
  "kernelspec": {
   "display_name": "Python 3 (ipykernel)",
   "language": "python",
   "name": "python3"
  },
  "language_info": {
   "codemirror_mode": {
    "name": "ipython",
    "version": 3
   },
   "file_extension": ".py",
   "mimetype": "text/x-python",
   "name": "python",
   "nbconvert_exporter": "python",
   "pygments_lexer": "ipython3",
   "version": "3.11.7"
  }
 },
 "nbformat": 4,
 "nbformat_minor": 5
}
